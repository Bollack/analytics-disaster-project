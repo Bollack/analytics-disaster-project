{
 "cells": [
  {
   "cell_type": "code",
   "execution_count": 5,
   "metadata": {
    "collapsed": true
   },
   "outputs": [],
   "source": [
    "import pandas as pd\n",
    "import numpy as np"
   ]
  },
  {
   "cell_type": "code",
   "execution_count": 2,
   "metadata": {
    "collapsed": true
   },
   "outputs": [],
   "source": [
    "file = './data/eccc91e3-d623-4dc3-8413-1c6164424740_DisasterDeclarations.csv'\n",
    "dataframe = pd.read_csv(file)"
   ]
  },
  {
   "cell_type": "code",
   "execution_count": 3,
   "metadata": {},
   "outputs": [
    {
     "data": {
      "text/html": [
       "<div>\n",
       "<style>\n",
       "    .dataframe thead tr:only-child th {\n",
       "        text-align: right;\n",
       "    }\n",
       "\n",
       "    .dataframe thead th {\n",
       "        text-align: left;\n",
       "    }\n",
       "\n",
       "    .dataframe tbody tr th {\n",
       "        vertical-align: top;\n",
       "    }\n",
       "</style>\n",
       "<table border=\"1\" class=\"dataframe\">\n",
       "  <thead>\n",
       "    <tr style=\"text-align: right;\">\n",
       "      <th></th>\n",
       "      <th>disaster_number</th>\n",
       "      <th>ih_program_declared</th>\n",
       "      <th>ia_program_declared</th>\n",
       "      <th>pa_program_declared</th>\n",
       "      <th>hm_program_declared</th>\n",
       "      <th>state</th>\n",
       "      <th>declaration_date</th>\n",
       "      <th>disaster_type</th>\n",
       "      <th>incident_type</th>\n",
       "      <th>title</th>\n",
       "      <th>incident_begin_date</th>\n",
       "      <th>incident_end_date</th>\n",
       "      <th>disaster_close_out_date</th>\n",
       "      <th>declared_county_area</th>\n",
       "      <th>serialid</th>\n",
       "    </tr>\n",
       "  </thead>\n",
       "  <tbody>\n",
       "    <tr>\n",
       "      <th>0</th>\n",
       "      <td>1</td>\n",
       "      <td>No</td>\n",
       "      <td>Yes</td>\n",
       "      <td>Yes</td>\n",
       "      <td>Yes</td>\n",
       "      <td>GA</td>\n",
       "      <td>1953-05-02T00:00:00</td>\n",
       "      <td>DR</td>\n",
       "      <td>Tornado</td>\n",
       "      <td>TORNADO</td>\n",
       "      <td>1953-05-02T00:00:00</td>\n",
       "      <td>1953-05-02T00:00:00</td>\n",
       "      <td>1954-06-01T00:00:00</td>\n",
       "      <td>NaN</td>\n",
       "      <td>1</td>\n",
       "    </tr>\n",
       "    <tr>\n",
       "      <th>1</th>\n",
       "      <td>2</td>\n",
       "      <td>No</td>\n",
       "      <td>Yes</td>\n",
       "      <td>Yes</td>\n",
       "      <td>Yes</td>\n",
       "      <td>TX</td>\n",
       "      <td>1953-05-15T00:00:00</td>\n",
       "      <td>DR</td>\n",
       "      <td>Tornado</td>\n",
       "      <td>TORNADO &amp; HEAVY RAINFALL</td>\n",
       "      <td>1953-05-15T00:00:00</td>\n",
       "      <td>1953-05-15T00:00:00</td>\n",
       "      <td>1958-01-01T00:00:00</td>\n",
       "      <td>NaN</td>\n",
       "      <td>2</td>\n",
       "    </tr>\n",
       "    <tr>\n",
       "      <th>2</th>\n",
       "      <td>3</td>\n",
       "      <td>No</td>\n",
       "      <td>Yes</td>\n",
       "      <td>Yes</td>\n",
       "      <td>Yes</td>\n",
       "      <td>LA</td>\n",
       "      <td>1953-05-29T00:00:00</td>\n",
       "      <td>DR</td>\n",
       "      <td>Flood</td>\n",
       "      <td>FLOOD</td>\n",
       "      <td>1953-05-29T00:00:00</td>\n",
       "      <td>1953-05-29T00:00:00</td>\n",
       "      <td>1960-02-01T00:00:00</td>\n",
       "      <td>NaN</td>\n",
       "      <td>3</td>\n",
       "    </tr>\n",
       "    <tr>\n",
       "      <th>3</th>\n",
       "      <td>4</td>\n",
       "      <td>No</td>\n",
       "      <td>Yes</td>\n",
       "      <td>Yes</td>\n",
       "      <td>Yes</td>\n",
       "      <td>MI</td>\n",
       "      <td>1953-06-02T00:00:00</td>\n",
       "      <td>DR</td>\n",
       "      <td>Tornado</td>\n",
       "      <td>TORNADO</td>\n",
       "      <td>1953-06-02T00:00:00</td>\n",
       "      <td>1953-06-02T00:00:00</td>\n",
       "      <td>1956-02-01T00:00:00</td>\n",
       "      <td>NaN</td>\n",
       "      <td>4</td>\n",
       "    </tr>\n",
       "    <tr>\n",
       "      <th>4</th>\n",
       "      <td>5</td>\n",
       "      <td>No</td>\n",
       "      <td>Yes</td>\n",
       "      <td>Yes</td>\n",
       "      <td>Yes</td>\n",
       "      <td>MT</td>\n",
       "      <td>1953-06-06T00:00:00</td>\n",
       "      <td>DR</td>\n",
       "      <td>Flood</td>\n",
       "      <td>FLOODS</td>\n",
       "      <td>1953-06-06T00:00:00</td>\n",
       "      <td>1953-06-06T00:00:00</td>\n",
       "      <td>1955-12-01T00:00:00</td>\n",
       "      <td>NaN</td>\n",
       "      <td>5</td>\n",
       "    </tr>\n",
       "  </tbody>\n",
       "</table>\n",
       "</div>"
      ],
      "text/plain": [
       "   disaster_number ih_program_declared ia_program_declared  \\\n",
       "0                1                  No                 Yes   \n",
       "1                2                  No                 Yes   \n",
       "2                3                  No                 Yes   \n",
       "3                4                  No                 Yes   \n",
       "4                5                  No                 Yes   \n",
       "\n",
       "  pa_program_declared hm_program_declared state     declaration_date  \\\n",
       "0                 Yes                 Yes    GA  1953-05-02T00:00:00   \n",
       "1                 Yes                 Yes    TX  1953-05-15T00:00:00   \n",
       "2                 Yes                 Yes    LA  1953-05-29T00:00:00   \n",
       "3                 Yes                 Yes    MI  1953-06-02T00:00:00   \n",
       "4                 Yes                 Yes    MT  1953-06-06T00:00:00   \n",
       "\n",
       "  disaster_type incident_type                     title  incident_begin_date  \\\n",
       "0            DR       Tornado                   TORNADO  1953-05-02T00:00:00   \n",
       "1            DR       Tornado  TORNADO & HEAVY RAINFALL  1953-05-15T00:00:00   \n",
       "2            DR         Flood                     FLOOD  1953-05-29T00:00:00   \n",
       "3            DR       Tornado                   TORNADO  1953-06-02T00:00:00   \n",
       "4            DR         Flood                    FLOODS  1953-06-06T00:00:00   \n",
       "\n",
       "     incident_end_date disaster_close_out_date declared_county_area  serialid  \n",
       "0  1953-05-02T00:00:00     1954-06-01T00:00:00                  NaN         1  \n",
       "1  1953-05-15T00:00:00     1958-01-01T00:00:00                  NaN         2  \n",
       "2  1953-05-29T00:00:00     1960-02-01T00:00:00                  NaN         3  \n",
       "3  1953-06-02T00:00:00     1956-02-01T00:00:00                  NaN         4  \n",
       "4  1953-06-06T00:00:00     1955-12-01T00:00:00                  NaN         5  "
      ]
     },
     "execution_count": 3,
     "metadata": {},
     "output_type": "execute_result"
    }
   ],
   "source": [
    "dataframe.head()"
   ]
  },
  {
   "cell_type": "code",
   "execution_count": 9,
   "metadata": {},
   "outputs": [
    {
     "data": {
      "text/plain": [
       "Severe Storm(s)     14544\n",
       "Flood                8620\n",
       "Hurricane            8443\n",
       "Snow                 3437\n",
       "Fire                 2613\n",
       "Severe Ice Storm     1637\n",
       "Tornado              1376\n",
       "Drought              1292\n",
       "Coastal Storm         461\n",
       "Freezing              301\n",
       "Other                 298\n",
       "Typhoon               115\n",
       "Earthquake            103\n",
       "Volcano                49\n",
       "Fishing Losses         42\n",
       "Tsunami                10\n",
       "Toxic Substances        8\n",
       "Human Cause             6\n",
       "Terrorist               5\n",
       "Mud/Landslide           4\n",
       "Dam/Levee Break         3\n",
       "Name: incident_type, dtype: int64"
      ]
     },
     "execution_count": 9,
     "metadata": {},
     "output_type": "execute_result"
    }
   ],
   "source": [
    "dataframe['incident_type'].value_counts()"
   ]
  },
  {
   "cell_type": "code",
   "execution_count": 6,
   "metadata": {},
   "outputs": [
    {
     "data": {
      "text/plain": [
       "array([  0.,   2.,   4.,   6.,   8.,  10.])"
      ]
     },
     "execution_count": 6,
     "metadata": {},
     "output_type": "execute_result"
    }
   ],
   "source": [
    " "
   ]
  },
  {
   "cell_type": "code",
   "execution_count": null,
   "metadata": {
    "collapsed": true
   },
   "outputs": [],
   "source": []
  }
 ],
 "metadata": {
  "kernelspec": {
   "display_name": "Python 3",
   "language": "python",
   "name": "python3"
  },
  "language_info": {
   "codemirror_mode": {
    "name": "ipython",
    "version": 3
   },
   "file_extension": ".py",
   "mimetype": "text/x-python",
   "name": "python",
   "nbconvert_exporter": "python",
   "pygments_lexer": "ipython3",
   "version": "3.6.2"
  }
 },
 "nbformat": 4,
 "nbformat_minor": 2
}
